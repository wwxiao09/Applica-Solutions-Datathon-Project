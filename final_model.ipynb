{
 "cells": [
  {
   "cell_type": "code",
   "execution_count": 1,
   "id": "18e99bca",
   "metadata": {},
   "outputs": [
    {
     "name": "stdout",
     "output_type": "stream",
     "text": [
      "Requirement already satisfied: pandas in /Users/wenxiaowang/anaconda3/lib/python3.10/site-packages (1.5.3)\n",
      "Requirement already satisfied: python-dateutil>=2.8.1 in /Users/wenxiaowang/anaconda3/lib/python3.10/site-packages (from pandas) (2.8.2)\n",
      "Requirement already satisfied: pytz>=2020.1 in /Users/wenxiaowang/anaconda3/lib/python3.10/site-packages (from pandas) (2022.7)\n",
      "Requirement already satisfied: numpy>=1.21.0 in /Users/wenxiaowang/anaconda3/lib/python3.10/site-packages (from pandas) (1.25.2)\n",
      "Requirement already satisfied: six>=1.5 in /Users/wenxiaowang/anaconda3/lib/python3.10/site-packages (from python-dateutil>=2.8.1->pandas) (1.16.0)\n",
      "Note: you may need to restart the kernel to use updated packages.\n"
     ]
    }
   ],
   "source": [
    "%pip install pandas"
   ]
  },
  {
   "cell_type": "markdown",
   "id": "2f41283f",
   "metadata": {},
   "source": [
    "# Import Libraries"
   ]
  },
  {
   "cell_type": "code",
   "execution_count": 2,
   "id": "89b95ab6",
   "metadata": {},
   "outputs": [],
   "source": [
    "import pandas as pd\n",
    "from collections import Counter, defaultdict\n",
    "import statistics\n",
    "import re\n",
    "import numpy as np\n",
    "import math"
   ]
  },
  {
   "cell_type": "markdown",
   "id": "f78edcd2",
   "metadata": {},
   "source": [
    "# Data cleaning and preprocessing"
   ]
  },
  {
   "cell_type": "code",
   "execution_count": 3,
   "id": "db8cfdcc",
   "metadata": {},
   "outputs": [],
   "source": [
    "def data_cleaning(raw_address):\n",
    "    data = pd.ExcelFile(raw_address)\n",
    "    sponsor_id = [5419, 5479, 5550]\n",
    "    Posting_Des = pd.read_excel(data, 'Posting Descriptions')\n",
    "    d_likes = pd.read_excel(data, 'Posting Likes')\n",
    "    d_clicks = pd.read_excel(data, 'Posting Clicks')\n",
    "    \n",
    "    df_posting_goals = adding_kid_safety(data)\n",
    "    \n",
    "    \n",
    "    merged_data = likes_by_sponsor(sponsor_id, d_likes, Posting_Des)\n",
    "    merged_data = clicks_by_sponsor(sponsor_id, d_clicks, merged_data)\n",
    "    \n",
    "    \n",
    "    df_posting_des = description_with_goals(df_posting_goals, Posting_Des)\n",
    "    \n",
    "    columns_drop = ['module_code','description']\n",
    "    df_posting_des = df_posting_des.drop(columns = columns_drop)\n",
    "    \n",
    "    for s in sponsor_id:\n",
    "        clean_data = cleaned_data(merged_data, df_posting_des, s)\n",
    "        clean_data.to_excel(str(s)+\" Cleaned Data.xlsx\", index=False)  \n",
    "\n",
    "\n",
    "def cleaned_data(merged_data, d_postingDes, s):\n",
    "\n",
    "    result = pd.DataFrame(merged_data['postable_id'])\n",
    "    \n",
    "    result['like']=merged_data[\"likes_\" + str(s)]\n",
    "    result['click']=merged_data[\"clicks_\" + str(s)]\n",
    "    result = result.merge(d_postingDes, how='left', on='postable_id')\n",
    "    return result\n",
    "\n",
    "\n",
    "def description_with_goals(df_posting_goals, Posting_Des):\n",
    "    df_posting_goals[\"postable_id\"] = df_posting_goals[\"postable_id\"].apply(remove_xx)\n",
    "    goals_dict = goals_to_dict(df_posting_goals)\n",
    "    \n",
    "    original_columns = Posting_Des.columns.tolist()\n",
    "    original_columns.append('goal')\n",
    "    original_columns.append('business')\n",
    "    original_columns.append('not-if')\n",
    "    original_columns.append('situation')\n",
    "    updated_df_posting_des = pd.DataFrame()\n",
    "    for index, row in Posting_Des.iterrows():\n",
    "        new_row = add_columns_from_dict(row, goals_dict)\n",
    "        updated_df_posting_des = pd.concat([updated_df_posting_des, pd.DataFrame([new_row])], ignore_index=True)\n",
    "    df_posting_des = updated_df_posting_des.fillna(0)\n",
    "    df_posting_des = df_posting_des[original_columns]\n",
    "    return df_posting_des\n",
    "    \n",
    "\n",
    "def clicks_by_sponsor(sponsor_id, clicks_data, merged_data):\n",
    "    columns_drop=['sponsor_id', 'timestamp', 'postable_type']\n",
    "    for s in sponsor_id:\n",
    "        result = clicks_data.loc[clicks_data['sponsor_id'] == s]\n",
    "        result = result.groupby(['postable_id']).count()\n",
    "        result = result.reset_index()\n",
    "        result = result.drop(columns = columns_drop)\n",
    "        new_col_name = \"clicks_\" + str(s)\n",
    "        result = result.rename(columns={\"id\": new_col_name})\n",
    "        merged_data = merged_data.merge(result, how='left', on='postable_id')\n",
    "    merged_data = merged_data.fillna(0)\n",
    "    return merged_data\n",
    "\n",
    "\n",
    "def likes_by_sponsor(sponsor_id, likes_data, Posting_Des):\n",
    "    likes_data=likes_data.drop(labels=[\"id\",\"postable_type\",\"post_create_time\"],axis=1)\n",
    "    grouped = likes_data.groupby(['postable_id','sponsor_id'])\n",
    "    combined_likes = grouped['like_count'].sum().reset_index()\n",
    "    for s in sponsor_id:\n",
    "        like=combined_likes[combined_likes[\"sponsor_id\"]==s].drop(labels=\"sponsor_id\",axis=1)\n",
    "        new_col_name = \"likes_\" + str(s)\n",
    "        like.columns=[\"postable_id\", new_col_name]\n",
    "        Posting_Des = Posting_Des.merge(like, on='postable_id', how='left')\n",
    "    merged = Posting_Des.fillna(0)\n",
    "    return merged  \n",
    "\n",
    "\n",
    "def adding_kid_safety(raw_data):\n",
    "    df=pd.read_excel(raw_data,'Posting Descriptions')\n",
    "    pattern = r'(?i)(Child\\s*\\w*)'\n",
    "    mask = (df[\"title\"].str.extract(pattern, flags=re.IGNORECASE).notna().any(axis=1)) | (df[\"postable_id\"] == 575)\n",
    "    kids_related=df[mask]\n",
    "    kids_related.loc[:,\"module_code\"]=\"auto\"\n",
    "    kids_related.loc[:,\"gs_type\"]=\"goal\"\n",
    "    kids_related.loc[:,\"gs_id\"]=\"kids_safety\"\n",
    "    kids_related=kids_related.drop(labels=[\"title\",\"description\"],axis=1)\n",
    "    df_main=pd.read_excel(raw_data,'Posting Goals (Benefits)')\n",
    "    kids_related[\"postable_id\"]=kids_related[\"postable_id\"].astype(str)\n",
    "    df_main = pd.concat([df_main,kids_related],ignore_index=True)\n",
    "    df_main[\"postable_id\"]=df_main[\"postable_id\"].astype(str)\n",
    "    df_main.sort_values(\"postable_id\", inplace = True)\n",
    "    return df_main\n",
    "        \n",
    "\n",
    "def remove_xx(s):\n",
    "    s = str(s)\n",
    "    if '-xx' in s:\n",
    "        return int(s.replace('-xx', ''))\n",
    "    else:\n",
    "        return int(s)\n",
    "\n",
    "def goals_to_dict(goals_data):\n",
    "    result_dict = {}\n",
    "    for index, row in goals_data.iterrows():\n",
    "        id_value = row['postable_id']\n",
    "        gs_type_value = row['gs_type']\n",
    "        gs_id_value = row['gs_id']\n",
    "\n",
    "        if id_value not in result_dict:\n",
    "            result_dict[id_value] = defaultdict(list)\n",
    "\n",
    "        result_dict[id_value][gs_type_value].append(gs_id_value)\n",
    "    return result_dict\n",
    "\n",
    "def add_columns_from_dict(row, result_dict):\n",
    "    id_value = row['postable_id']\n",
    "    if id_value in result_dict:\n",
    "        values_dict = result_dict[id_value]\n",
    "        for col_name, col_values in values_dict.items():\n",
    "            row[col_name] = \", \".join(col_values)\n",
    "    return row"
   ]
  },
  {
   "cell_type": "code",
   "execution_count": 4,
   "id": "2b16c930",
   "metadata": {},
   "outputs": [
    {
     "name": "stderr",
     "output_type": "stream",
     "text": [
      "/var/folders/n9/zvs6108d0xz5wwfs5rwf07v40000gn/T/ipykernel_31666/1128820430.py:85: SettingWithCopyWarning: \n",
      "A value is trying to be set on a copy of a slice from a DataFrame.\n",
      "Try using .loc[row_indexer,col_indexer] = value instead\n",
      "\n",
      "See the caveats in the documentation: https://pandas.pydata.org/pandas-docs/stable/user_guide/indexing.html#returning-a-view-versus-a-copy\n",
      "  kids_related.loc[:,\"module_code\"]=\"auto\"\n",
      "/var/folders/n9/zvs6108d0xz5wwfs5rwf07v40000gn/T/ipykernel_31666/1128820430.py:86: SettingWithCopyWarning: \n",
      "A value is trying to be set on a copy of a slice from a DataFrame.\n",
      "Try using .loc[row_indexer,col_indexer] = value instead\n",
      "\n",
      "See the caveats in the documentation: https://pandas.pydata.org/pandas-docs/stable/user_guide/indexing.html#returning-a-view-versus-a-copy\n",
      "  kids_related.loc[:,\"gs_type\"]=\"goal\"\n",
      "/var/folders/n9/zvs6108d0xz5wwfs5rwf07v40000gn/T/ipykernel_31666/1128820430.py:87: SettingWithCopyWarning: \n",
      "A value is trying to be set on a copy of a slice from a DataFrame.\n",
      "Try using .loc[row_indexer,col_indexer] = value instead\n",
      "\n",
      "See the caveats in the documentation: https://pandas.pydata.org/pandas-docs/stable/user_guide/indexing.html#returning-a-view-versus-a-copy\n",
      "  kids_related.loc[:,\"gs_id\"]=\"kids_safety\"\n"
     ]
    }
   ],
   "source": [
    "data_cleaning(\"dataset.xlsx\")"
   ]
  },
  {
   "cell_type": "markdown",
   "id": "c301a93d",
   "metadata": {},
   "source": [
    "# Encode the data and run the models"
   ]
  },
  {
   "cell_type": "code",
   "execution_count": 5,
   "id": "c762e71f",
   "metadata": {},
   "outputs": [],
   "source": [
    "def encoding(df):\n",
    "    all_goals = set()\n",
    "    for index, row in df.iterrows():\n",
    "        if row['goal'] != 0:\n",
    "            value = row['goal']\n",
    "            value_list = [v.strip() for v in value.split(\",\")]\n",
    "            all_goals.update(value_list)\n",
    "    columns_to_drop = ['like', 'click', 'title', 'business', 'not-if', 'situation']\n",
    "    df = df.drop(columns=columns_to_drop)\n",
    "    for goal in all_goals:\n",
    "        df[goal] = 0\n",
    "        for index, row in df.iterrows():\n",
    "            if row['goal'] != 0:\n",
    "                value = row['goal']\n",
    "                value_list = [v.strip() for v in value.split(\",\")]\n",
    "                if goal in value_list:\n",
    "                    df.loc[index, goal] = 1\n",
    "    return df\n",
    "\n",
    "encoding_5419 = encoding(pd.read_excel('5419 Cleaned Data.xlsx'))\n",
    "encoding_5479 = encoding(pd.read_excel('5479 Cleaned Data.xlsx'))\n",
    "encoding_5550 = encoding(pd.read_excel('5550 Cleaned Data.xlsx'))\n",
    "l_5419 = pd.read_excel('5419 Cleaned Data.xlsx').drop(columns=['title', 'goal', 'business', 'not-if', 'situation'])\n",
    "l_5479 = pd.read_excel('5479 Cleaned Data.xlsx').drop(columns=['title', 'goal', 'business', 'not-if', 'situation'])\n",
    "l_5550 = pd.read_excel('5550 Cleaned Data.xlsx').drop(columns=['title', 'goal', 'business', 'not-if', 'situation'])\n",
    "\n",
    "def combination(ghat):\n",
    "    ghat = np.zeros((math.comb(15,3) + math.comb(15,2) + math.comb(15,1), 15))\n",
    "    row = 0\n",
    "    for i in range(16):\n",
    "        for j in range(i+1, 16):\n",
    "            for q in range(j+1, 16):\n",
    "                if i != 15:\n",
    "                    ghat[row][i] = 1\n",
    "                if j != 15:\n",
    "                    ghat[row][j] = 1\n",
    "                if q != 15:\n",
    "                    ghat[row][q] = 1\n",
    "                row+=1\n",
    "        if i != 15:\n",
    "            ghat[row][i] = 1\n",
    "            row+=1\n",
    "    return ghat\n",
    "\n",
    "def model_sum(encoding_goals_file, like_clicks_file):\n",
    "    g = encoding_goals_file.drop(columns = 'goal')\n",
    "#     l = normalize(like_clicks_file)\n",
    "    g_matrix = g.drop(columns=\"postable_id\").values\n",
    "    l_matrix = like_clicks_file.drop(columns=\"postable_id\").values\n",
    "    g_transpose = np.transpose(g_matrix)\n",
    "    g_trans_inverse = np.linalg.inv(g_transpose @ g_matrix)\n",
    "    q_matrix = g_trans_inverse @ g_transpose @ l_matrix\n",
    "    \n",
    "    ghat = np.zeros((math.comb(15,3) + math.comb(15,2) + math.comb(15,1), 15))\n",
    "    ghat = combination(ghat)\n",
    "    goal_ratings = ghat @ q_matrix\n",
    "    \n",
    "    res_rank = []\n",
    "    goal_rankings = []\n",
    "    goal_rankings_solo = []\n",
    "    gl = g.drop(columns=\"postable_id\").columns.tolist()\n",
    "    def f(x,y):\n",
    "        return x + y\n",
    "\n",
    "    e = ''\n",
    "    c = ','\n",
    "    row = 0\n",
    "    for i in range(16):\n",
    "        for j in range(i+1, 16):\n",
    "            for q in range(j+1, 16):\n",
    "                goal_rankings.append((f'{gl[i]+c if i != 15 else e}{gl[j]+c if j != 15 else e}{gl[q] if q != 15 else e}', f(*goal_ratings[row])))\n",
    "                row+=1\n",
    "        if i != 15:\n",
    "            goal_rankings.append((f'SOLO:{gl[i]+c if i != 15 else e}{gl[j]+c if j != 15 else e}{gl[q] if q != 15 else e}', f(*goal_ratings[row])))\n",
    "            goal_rankings_solo.append((f'SOLO:{gl[i]+c if i != 15 else e}{gl[j]+c if j != 15 else e}{gl[q] if q != 15 else e}', f(*goal_ratings[row])))\n",
    "            ghat[row][i] = 1\n",
    "            row+=1\n",
    "    goal_rankings.sort(key=lambda x: x[1], reverse=True)\n",
    "    goal_rankings_solo.sort(key=lambda x: x[1], reverse=True)\n",
    "    res_rank.append(goal_rankings)\n",
    "    res_rank.append(goal_rankings_solo)\n",
    "    return res_rank"
   ]
  },
  {
   "cell_type": "code",
   "execution_count": 6,
   "id": "e207181a",
   "metadata": {},
   "outputs": [],
   "source": [
    "res_5419 = model_sum(encoding_5419, l_5419)\n",
    "res_5479 = model_sum(encoding_5479, l_5479)\n",
    "res_5550 = model_sum(encoding_5550, l_5550)"
   ]
  },
  {
   "cell_type": "code",
   "execution_count": 17,
   "id": "7a6648b7",
   "metadata": {},
   "outputs": [],
   "source": [
    "def model_rank_like(encoding_goals_file, like_clicks_file):\n",
    "    g = encoding_goals_file.drop(columns = 'goal')\n",
    "#     l = normalize(like_clicks_file)\n",
    "    g_matrix = g.drop(columns=\"postable_id\").values\n",
    "    l_matrix = like_clicks_file.drop(columns=\"postable_id\").values\n",
    "    g_transpose = np.transpose(g_matrix)\n",
    "    g_trans_inverse = np.linalg.inv(g_transpose @ g_matrix)\n",
    "    q_matrix = g_trans_inverse @ g_transpose @ l_matrix\n",
    "    \n",
    "    ghat = np.zeros((math.comb(15,3) + math.comb(15,2) + math.comb(15,1), 15))\n",
    "    ghat = combination(ghat)\n",
    "    goal_ratings = ghat @ q_matrix\n",
    "    \n",
    "    res_rank = []\n",
    "    goal_rankings = []\n",
    "    goal_rankings_solo = []\n",
    "    gl = g.drop(columns=\"postable_id\").columns.tolist()\n",
    "    def f(x,y):\n",
    "        if x + y == 0:\n",
    "            return 0\n",
    "        else:\n",
    "            return x / (x + y)\n",
    "\n",
    "    e = ''\n",
    "    c = ','\n",
    "    row = 0\n",
    "    for i in range(16):\n",
    "        for j in range(i+1, 16):\n",
    "            for q in range(j+1, 16):\n",
    "                goal_rankings.append((f'{gl[i]+c if i != 15 else e}{gl[j]+c if j != 15 else e}{gl[q] if q != 15 else e}', f(*goal_ratings[row])))\n",
    "                row+=1\n",
    "        if i != 15:\n",
    "            goal_rankings.append((f'SOLO:{gl[i]+c if i != 15 else e}{gl[j]+c if j != 15 else e}{gl[q] if q != 15 else e}', f(*goal_ratings[row])))\n",
    "            goal_rankings_solo.append((f'SOLO:{gl[i]+c if i != 15 else e}{gl[j]+c if j != 15 else e}{gl[q] if q != 15 else e}', f(*goal_ratings[row])))\n",
    "            ghat[row][i] = 1\n",
    "            row+=1\n",
    "    goal_rankings.sort(key=lambda x: x[1], reverse=True)\n",
    "    goal_rankings_solo.sort(key=lambda x: x[1], reverse=True)\n",
    "    res_rank.append(goal_rankings)\n",
    "    res_rank.append(goal_rankings_solo)\n",
    "    return res_rank\n",
    "\n",
    "res_5419_1 = model_rank_like(encoding_5419, l_5419)\n",
    "res_5479_1 = model_rank_like(encoding_5479, l_5479)\n",
    "res_5550_1 = model_rank_like(encoding_5550, l_5550)"
   ]
  },
  {
   "cell_type": "code",
   "execution_count": 8,
   "id": "2716cd22",
   "metadata": {},
   "outputs": [],
   "source": [
    "def calculate_average_score(df, df1):\n",
    "    category_data = {}\n",
    "    # Iterate over the first list\n",
    "    for category, value in df[1]:\n",
    "        if category in category_data:\n",
    "            category_data[category][0] += value\n",
    "            category_data[category][1] += 1\n",
    "        else:\n",
    "            category_data[category] = [value, 1]\n",
    "\n",
    "    # Iterate over the second list\n",
    "    for category, value in df1[1]:\n",
    "        if category in category_data:\n",
    "            category_data[category][0] += value\n",
    "            category_data[category][1] += 1\n",
    "        else:\n",
    "            category_data[category] = [value, 1]\n",
    "\n",
    "    # Calculate the average for each category\n",
    "    averages = {category: category_data[category][0] / category_data[category][1] for category in category_data}\n",
    "\n",
    "    sorted_averages = sorted(averages.items(), key=lambda item: item[1], reverse=True)\n",
    "\n",
    "    # Print the averages\n",
    "    for category, average in sorted_averages:\n",
    "        print(f\"{category}: {average}\")"
   ]
  },
  {
   "cell_type": "code",
   "execution_count": 9,
   "id": "8079c9ea",
   "metadata": {
    "scrolled": true
   },
   "outputs": [
    {
     "name": "stdout",
     "output_type": "stream",
     "text": [
      "Score for Sponsor_5419:\n",
      "SOLO:pet_safety,: 1.0\n",
      "SOLO:acc_tires,: 0.7313319950289883\n",
      "SOLO:rust,: 0.5624568010537305\n",
      "SOLO:safe,: 0.5219083025532811\n",
      "SOLO:prev_maint,: 0.4880550991197363\n",
      "SOLO:money,: 0.45753007723568995\n",
      "SOLO:value,: 0.41371936658833425\n",
      "SOLO:comf_conv,: 0.3334339317276326\n",
      "SOLO:fuel_econ,: 0.30358385612992594\n",
      "SOLO:locks_security_car,: 0.29352269720418067\n",
      "SOLO:teen_driver,: 0.23535560051540244\n",
      "SOLO:kids_safety,: 0.22892587814213705\n",
      "SOLO:locks_security_home,: 0.1926935947462961\n",
      "SOLO:allergy,: -0.3736381849631916\n",
      "SOLO:appear,: -0.39691748000728744\n"
     ]
    }
   ],
   "source": [
    "print(\"Score for Sponsor_5419:\")\n",
    "calculate_average_score(res_5419, res_5419_1)"
   ]
  },
  {
   "cell_type": "code",
   "execution_count": 10,
   "id": "8f627570",
   "metadata": {},
   "outputs": [
    {
     "name": "stdout",
     "output_type": "stream",
     "text": [
      "Score for Sponsor_5479:\n",
      "SOLO:acc_tires,: 2.2998248031173767\n",
      "SOLO:prev_maint,: 1.2964516408713025\n",
      "SOLO:rust,: 0.9269181548326433\n",
      "SOLO:money,: 0.7310107927368911\n",
      "SOLO:fuel_econ,: 0.5190358864803964\n",
      "SOLO:value,: 0.4374411770906197\n",
      "SOLO:locks_security_car,: 0.408733257304196\n",
      "SOLO:appear,: 0.36644797026823306\n",
      "SOLO:safe,: 0.19634176753976929\n",
      "SOLO:comf_conv,: 0.018902153056941595\n",
      "SOLO:pet_safety,: 0.0\n",
      "SOLO:kids_safety,: -0.009333665558778126\n",
      "SOLO:teen_driver,: -0.014860985768155102\n",
      "SOLO:allergy,: -0.9671900293506996\n",
      "SOLO:locks_security_home,: -1.8007368871684786\n"
     ]
    }
   ],
   "source": [
    "print(\"Score for Sponsor_5479:\")\n",
    "calculate_average_score(res_5479, res_5479_1)"
   ]
  },
  {
   "cell_type": "code",
   "execution_count": 11,
   "id": "897e6b4e",
   "metadata": {},
   "outputs": [
    {
     "name": "stdout",
     "output_type": "stream",
     "text": [
      "Score for Sponsor_5550:\n",
      "SOLO:prev_maint,: 2.642039185570717\n",
      "SOLO:comf_conv,: 2.0331120353198493\n",
      "SOLO:money,: 1.1213273874529694\n",
      "SOLO:pet_safety,: 0.75\n",
      "SOLO:appear,: 0.5842505733635819\n",
      "SOLO:fuel_econ,: 0.4518507204373865\n",
      "SOLO:kids_safety,: 0.3271263477047172\n",
      "SOLO:teen_driver,: 0.27185678842717786\n",
      "SOLO:value,: -0.11149206558015794\n",
      "SOLO:locks_security_car,: -0.2479272106596654\n",
      "SOLO:safe,: -0.3880849979584582\n",
      "SOLO:rust,: -0.4749697277896042\n",
      "SOLO:acc_tires,: -0.5893287325442723\n",
      "SOLO:allergy,: -0.6274627276085413\n",
      "SOLO:locks_security_home,: -1.768417591909437\n"
     ]
    }
   ],
   "source": [
    "print(\"Score for Sponsor_5550:\")\n",
    "calculate_average_score(res_5550, res_5550_1)"
   ]
  },
  {
   "cell_type": "code",
   "execution_count": 32,
   "id": "85ab0f83",
   "metadata": {},
   "outputs": [
    {
     "data": {
      "text/plain": [
       "[('SOLO:prev_maint,', 4.79934945974464),\n",
       " ('SOLO:comf_conv,', 3.9645710371749794),\n",
       " ('SOLO:money,', 1.5926090081550113),\n",
       " ('SOLO:kids_safety,', 0.69614251680167),\n",
       " ('SOLO:teen_driver,', 0.659941786385636),\n",
       " ('SOLO:fuel_econ,', 0.5465257744875532),\n",
       " ('SOLO:pet_safety,', 0.5),\n",
       " ('SOLO:appear,', -0.14480292166413405),\n",
       " ('SOLO:value,', -0.2599984746379659),\n",
       " ('SOLO:safe,', -0.659941786385636),\n",
       " ('SOLO:locks_security_car,', -0.6701224157530031),\n",
       " ('SOLO:allergy,', -1.0576477416626566),\n",
       " ('SOLO:rust,', -1.4768880941462128),\n",
       " ('SOLO:acc_tires,', -1.553744649458146),\n",
       " ('SOLO:locks_security_home,', -3.7607822323066635)]"
      ]
     },
     "execution_count": 32,
     "metadata": {},
     "output_type": "execute_result"
    }
   ],
   "source": [
    "res_5550[1]"
   ]
  },
  {
   "cell_type": "code",
   "execution_count": 29,
   "id": "71759591",
   "metadata": {},
   "outputs": [
    {
     "data": {
      "text/plain": [
       "0.26899625210701605"
      ]
     },
     "execution_count": 29,
     "metadata": {},
     "output_type": "execute_result"
    }
   ],
   "source": [
    "avg_comb_5479 = 0\n",
    "for i in range(6):\n",
    "    avg_comb_5479 += res_5479[1][i][1]\n",
    "avg_comb_5479 = avg_comb_5479/8\n",
    "avg_comb_5479"
   ]
  },
  {
   "cell_type": "code",
   "execution_count": 15,
   "id": "dfe9720f",
   "metadata": {},
   "outputs": [
    {
     "data": {
      "text/plain": [
       "[('SOLO:prev_maint,', 4.79934945974464),\n",
       " ('SOLO:comf_conv,', 3.9645710371749794),\n",
       " ('SOLO:money,', 1.5926090081550113),\n",
       " ('SOLO:kids_safety,', 0.69614251680167),\n",
       " ('SOLO:teen_driver,', 0.659941786385636),\n",
       " ('SOLO:fuel_econ,', 0.5465257744875532),\n",
       " ('SOLO:pet_safety,', 0.5),\n",
       " ('SOLO:appear,', -0.14480292166413405),\n",
       " ('SOLO:value,', -0.2599984746379659),\n",
       " ('SOLO:safe,', -0.659941786385636),\n",
       " ('SOLO:locks_security_car,', -0.6701224157530031),\n",
       " ('SOLO:allergy,', -1.0576477416626566),\n",
       " ('SOLO:rust,', -1.4768880941462128),\n",
       " ('SOLO:acc_tires,', -1.553744649458146),\n",
       " ('SOLO:locks_security_home,', -3.7607822323066635)]"
      ]
     },
     "execution_count": 15,
     "metadata": {},
     "output_type": "execute_result"
    }
   ],
   "source": [
    "res_5550[1]"
   ]
  },
  {
   "cell_type": "markdown",
   "id": "973f0f40",
   "metadata": {},
   "source": [
    "# Print out the selected goals as an excel file"
   ]
  },
  {
   "cell_type": "code",
   "execution_count": 12,
   "id": "9e0da6e4",
   "metadata": {},
   "outputs": [],
   "source": [
    "selected_goals = {\n",
    "    \"Sponsor_5419\": [1, 1, 1, 0, 0, 0, 1, 0, 1, 2, 0, 2, 2, 0, 0],\n",
    "    \"Sponsor_5479\": [0, 1, 0, 0, 0, 0, 1, 2, 1, 1, 2, 0, 0, 0, 0],\n",
    "    \"Sponsor_5550\": [1, 0, 0, 0, 0, 0, 1, 0, 1, 0, 2, 1, 1, 2, 1]\n",
    "}\n",
    "\n",
    "# Create a DataFrame from the dictionary\n",
    "df = pd.DataFrame(selected_goals, index=[\n",
    "    \"pet_safety\", \"rust\", \"safe\", \"locks_security_car\", \"locks_security_home\",\n",
    "    \"allergy\", \"prev_maint\", \"acc_tires\", \"money\", \"value\", \"appear\",\n",
    "    \"fuel_econ\", \"comf_conv\", \"teen_driver\", \"kid_safety\"\n",
    "])\n",
    "\n",
    "# Define the Excel file path\n",
    "file_path = \"selected_goals.xlsx\"\n",
    "\n",
    "# Save the DataFrame to an Excel file\n",
    "df.to_excel(file_path, index=True)"
   ]
  },
  {
   "cell_type": "code",
   "execution_count": 36,
   "id": "224c3954",
   "metadata": {},
   "outputs": [
    {
     "data": {
      "image/png": "[encoded data removed]",
      "text/plain": [
       "<Figure size 640x480 with 1 Axes>"
      ]
     },
     "metadata": {},
     "output_type": "display_data"
    }
   ],
   "source": [
    "import matplotlib.pyplot as plt\n",
    "\n",
    "# Define the data\n",
    "numbers = [4.799, 10.356]\n",
    "labels = ['prev_maint', 'prev_maint + money + comf_conv']\n",
    "\n",
    "# Create a line chart\n",
    "plt.plot(labels, numbers, marker='o', linestyle='-', color='b')\n",
    "plt.xlabel('Goals')\n",
    "plt.ylabel('Values')\n",
    "plt.title('Single Score vs Combination Score')\n",
    "\n",
    "for i in range(len(numbers)):\n",
    "    plt.text(labels[i], numbers[i], f'{numbers[i]:.3f}', ha='center', va='bottom')\n",
    "\n",
    "# Show the plot\n",
    "plt.grid(True)\n",
    "plt.show()"
   ]
  },
  {
   "cell_type": "code",
   "execution_count": 38,
   "id": "6135b75a",
   "metadata": {},
   "outputs": [
    {
     "data": {
      "application/vnd.plotly.v1+json": {
       "config": {
        "plotlyServerURL": "https://plot.ly"
       },
       "data": [
        {
         "line": {
          "color": "blue"
         },
         "marker": {
          "size": 10,
          "symbol": "circle"
         },
         "mode": "lines+markers",
         "type": "scatter",
         "x": [
          "prev_maint",
          "prev_maint + money + comf_conv"
         ],
         "y": [
          4.799,
          10.356
         ]
        }
       ],
       "layout": {
        "annotations": [
         {
          "showarrow": true,
          "text": "4.799",
          "x": "prev_maint",
          "y": 4.799
         },
         {
          "showarrow": true,
          "text": "10.356",
          "x": "prev_maint + money + comf_conv",
          "y": 10.356
         }
        ],
        "template": {
         "data": {
          "bar": [
           {
            "error_x": {
             "color": "#2a3f5f"
            },
            "error_y": {
             "color": "#2a3f5f"
            },
            "marker": {
             "line": {
              "color": "#E5ECF6",
              "width": 0.5
             },
             "pattern": {
              "fillmode": "overlay",
              "size": 10,
              "solidity": 0.2
             }
            },
            "type": "bar"
           }
          ],
          "barpolar": [
           {
            "marker": {
             "line": {
              "color": "#E5ECF6",
              "width": 0.5
             },
             "pattern": {
              "fillmode": "overlay",
              "size": 10,
              "solidity": 0.2
             }
            },
            "type": "barpolar"
           }
          ],
          "carpet": [
           {
            "aaxis": {
             "endlinecolor": "#2a3f5f",
             "gridcolor": "white",
             "linecolor": "white",
             "minorgridcolor": "white",
             "startlinecolor": "#2a3f5f"
            },
            "baxis": {
             "endlinecolor": "#2a3f5f",
             "gridcolor": "white",
             "linecolor": "white",
             "minorgridcolor": "white",
             "startlinecolor": "#2a3f5f"
            },
            "type": "carpet"
           }
          ],
          "choropleth": [
           {
            "colorbar": {
             "outlinewidth": 0,
             "ticks": ""
            },
            "type": "choropleth"
           }
          ],
          "contour": [
           {
            "colorbar": {
             "outlinewidth": 0,
             "ticks": ""
            },
            "colorscale": [
             [
              0,
              "#0d0887"
             ],
             [
              0.1111111111111111,
              "#46039f"
             ],
             [
              0.2222222222222222,
              "#7201a8"
             ],
             [
              0.3333333333333333,
              "#9c179e"
             ],
             [
              0.4444444444444444,
              "#bd3786"
             ],
             [
              0.5555555555555556,
              "#d8576b"
             ],
             [
              0.6666666666666666,
              "#ed7953"
             ],
             [
              0.7777777777777778,
              "#fb9f3a"
             ],
             [
              0.8888888888888888,
              "#fdca26"
             ],
             [
              1,
              "#f0f921"
             ]
            ],
            "type": "contour"
           }
          ],
          "contourcarpet": [
           {
            "colorbar": {
             "outlinewidth": 0,
             "ticks": ""
            },
            "type": "contourcarpet"
           }
          ],
          "heatmap": [
           {
            "colorbar": {
             "outlinewidth": 0,
             "ticks": ""
            },
            "colorscale": [
             [
              0,
              "#0d0887"
             ],
             [
              0.1111111111111111,
              "#46039f"
             ],
             [
              0.2222222222222222,
              "#7201a8"
             ],
             [
              0.3333333333333333,
              "#9c179e"
             ],
             [
              0.4444444444444444,
              "#bd3786"
             ],
             [
              0.5555555555555556,
              "#d8576b"
             ],
             [
              0.6666666666666666,
              "#ed7953"
             ],
             [
              0.7777777777777778,
              "#fb9f3a"
             ],
             [
              0.8888888888888888,
              "#fdca26"
             ],
             [
              1,
              "#f0f921"
             ]
            ],
            "type": "heatmap"
           }
          ],
          "heatmapgl": [
           {
            "colorbar": {
             "outlinewidth": 0,
             "ticks": ""
            },
            "colorscale": [
             [
              0,
              "#0d0887"
             ],
             [
              0.1111111111111111,
              "#46039f"
             ],
             [
              0.2222222222222222,
              "#7201a8"
             ],
             [
              0.3333333333333333,
              "#9c179e"
             ],
             [
              0.4444444444444444,
              "#bd3786"
             ],
             [
              0.5555555555555556,
              "#d8576b"
             ],
             [
              0.6666666666666666,
              "#ed7953"
             ],
             [
              0.7777777777777778,
              "#fb9f3a"
             ],
             [
              0.8888888888888888,
              "#fdca26"
             ],
             [
              1,
              "#f0f921"
             ]
            ],
            "type": "heatmapgl"
           }
          ],
          "histogram": [
           {
            "marker": {
             "pattern": {
              "fillmode": "overlay",
              "size": 10,
              "solidity": 0.2
             }
            },
            "type": "histogram"
           }
          ],
          "histogram2d": [
           {
            "colorbar": {
             "outlinewidth": 0,
             "ticks": ""
            },
            "colorscale": [
             [
              0,
              "#0d0887"
             ],
             [
              0.1111111111111111,
              "#46039f"
             ],
             [
              0.2222222222222222,
              "#7201a8"
             ],
             [
              0.3333333333333333,
              "#9c179e"
             ],
             [
              0.4444444444444444,
              "#bd3786"
             ],
             [
              0.5555555555555556,
              "#d8576b"
             ],
             [
              0.6666666666666666,
              "#ed7953"
             ],
             [
              0.7777777777777778,
              "#fb9f3a"
             ],
             [
              0.8888888888888888,
              "#fdca26"
             ],
             [
              1,
              "#f0f921"
             ]
            ],
            "type": "histogram2d"
           }
          ],
          "histogram2dcontour": [
           {
            "colorbar": {
             "outlinewidth": 0,
             "ticks": ""
            },
            "colorscale": [
             [
              0,
              "#0d0887"
             ],
             [
              0.1111111111111111,
              "#46039f"
             ],
             [
              0.2222222222222222,
              "#7201a8"
             ],
             [
              0.3333333333333333,
              "#9c179e"
             ],
             [
              0.4444444444444444,
              "#bd3786"
             ],
             [
              0.5555555555555556,
              "#d8576b"
             ],
             [
              0.6666666666666666,
              "#ed7953"
             ],
             [
              0.7777777777777778,
              "#fb9f3a"
             ],
             [
              0.8888888888888888,
              "#fdca26"
             ],
             [
              1,
              "#f0f921"
             ]
            ],
            "type": "histogram2dcontour"
           }
          ],
          "mesh3d": [
           {
            "colorbar": {
             "outlinewidth": 0,
             "ticks": ""
            },
            "type": "mesh3d"
           }
          ],
          "parcoords": [
           {
            "line": {
             "colorbar": {
              "outlinewidth": 0,
              "ticks": ""
             }
            },
            "type": "parcoords"
           }
          ],
          "pie": [
           {
            "automargin": true,
            "type": "pie"
           }
          ],
          "scatter": [
           {
            "fillpattern": {
             "fillmode": "overlay",
             "size": 10,
             "solidity": 0.2
            },
            "type": "scatter"
           }
          ],
          "scatter3d": [
           {
            "line": {
             "colorbar": {
              "outlinewidth": 0,
              "ticks": ""
             }
            },
            "marker": {
             "colorbar": {
              "outlinewidth": 0,
              "ticks": ""
             }
            },
            "type": "scatter3d"
           }
          ],
          "scattercarpet": [
           {
            "marker": {
             "colorbar": {
              "outlinewidth": 0,
              "ticks": ""
             }
            },
            "type": "scattercarpet"
           }
          ],
          "scattergeo": [
           {
            "marker": {
             "colorbar": {
              "outlinewidth": 0,
              "ticks": ""
             }
            },
            "type": "scattergeo"
           }
          ],
          "scattergl": [
           {
            "marker": {
             "colorbar": {
              "outlinewidth": 0,
              "ticks": ""
             }
            },
            "type": "scattergl"
           }
          ],
          "scattermapbox": [
           {
            "marker": {
             "colorbar": {
              "outlinewidth": 0,
              "ticks": ""
             }
            },
            "type": "scattermapbox"
           }
          ],
          "scatterpolar": [
           {
            "marker": {
             "colorbar": {
              "outlinewidth": 0,
              "ticks": ""
             }
            },
            "type": "scatterpolar"
           }
          ],
          "scatterpolargl": [
           {
            "marker": {
             "colorbar": {
              "outlinewidth": 0,
              "ticks": ""
             }
            },
            "type": "scatterpolargl"
           }
          ],
          "scatterternary": [
           {
            "marker": {
             "colorbar": {
              "outlinewidth": 0,
              "ticks": ""
             }
            },
            "type": "scatterternary"
           }
          ],
          "surface": [
           {
            "colorbar": {
             "outlinewidth": 0,
             "ticks": ""
            },
            "colorscale": [
             [
              0,
              "#0d0887"
             ],
             [
              0.1111111111111111,
              "#46039f"
             ],
             [
              0.2222222222222222,
              "#7201a8"
             ],
             [
              0.3333333333333333,
              "#9c179e"
             ],
             [
              0.4444444444444444,
              "#bd3786"
             ],
             [
              0.5555555555555556,
              "#d8576b"
             ],
             [
              0.6666666666666666,
              "#ed7953"
             ],
             [
              0.7777777777777778,
              "#fb9f3a"
             ],
             [
              0.8888888888888888,
              "#fdca26"
             ],
             [
              1,
              "#f0f921"
             ]
            ],
            "type": "surface"
           }
          ],
          "table": [
           {
            "cells": {
             "fill": {
              "color": "#EBF0F8"
             },
             "line": {
              "color": "white"
             }
            },
            "header": {
             "fill": {
              "color": "#C8D4E3"
             },
             "line": {
              "color": "white"
             }
            },
            "type": "table"
           }
          ]
         },
         "layout": {
          "annotationdefaults": {
           "arrowcolor": "#2a3f5f",
           "arrowhead": 0,
           "arrowwidth": 1
          },
          "autotypenumbers": "strict",
          "coloraxis": {
           "colorbar": {
            "outlinewidth": 0,
            "ticks": ""
           }
          },
          "colorscale": {
           "diverging": [
            [
             0,
             "#8e0152"
            ],
            [
             0.1,
             "#c51b7d"
            ],
            [
             0.2,
             "#de77ae"
            ],
            [
             0.3,
             "#f1b6da"
            ],
            [
             0.4,
             "#fde0ef"
            ],
            [
             0.5,
             "#f7f7f7"
            ],
            [
             0.6,
             "#e6f5d0"
            ],
            [
             0.7,
             "#b8e186"
            ],
            [
             0.8,
             "#7fbc41"
            ],
            [
             0.9,
             "#4d9221"
            ],
            [
             1,
             "#276419"
            ]
           ],
           "sequential": [
            [
             0,
             "#0d0887"
            ],
            [
             0.1111111111111111,
             "#46039f"
            ],
            [
             0.2222222222222222,
             "#7201a8"
            ],
            [
             0.3333333333333333,
             "#9c179e"
            ],
            [
             0.4444444444444444,
             "#bd3786"
            ],
            [
             0.5555555555555556,
             "#d8576b"
            ],
            [
             0.6666666666666666,
             "#ed7953"
            ],
            [
             0.7777777777777778,
             "#fb9f3a"
            ],
            [
             0.8888888888888888,
             "#fdca26"
            ],
            [
             1,
             "#f0f921"
            ]
           ],
           "sequentialminus": [
            [
             0,
             "#0d0887"
            ],
            [
             0.1111111111111111,
             "#46039f"
            ],
            [
             0.2222222222222222,
             "#7201a8"
            ],
            [
             0.3333333333333333,
             "#9c179e"
            ],
            [
             0.4444444444444444,
             "#bd3786"
            ],
            [
             0.5555555555555556,
             "#d8576b"
            ],
            [
             0.6666666666666666,
             "#ed7953"
            ],
            [
             0.7777777777777778,
             "#fb9f3a"
            ],
            [
             0.8888888888888888,
             "#fdca26"
            ],
            [
             1,
             "#f0f921"
            ]
           ]
          },
          "colorway": [
           "#636efa",
           "#EF553B",
           "#00cc96",
           "#ab63fa",
           "#FFA15A",
           "#19d3f3",
           "#FF6692",
           "#B6E880",
           "#FF97FF",
           "#FECB52"
          ],
          "font": {
           "color": "#2a3f5f"
          },
          "geo": {
           "bgcolor": "white",
           "lakecolor": "white",
           "landcolor": "#E5ECF6",
           "showlakes": true,
           "showland": true,
           "subunitcolor": "white"
          },
          "hoverlabel": {
           "align": "left"
          },
          "hovermode": "closest",
          "mapbox": {
           "style": "light"
          },
          "paper_bgcolor": "white",
          "plot_bgcolor": "#E5ECF6",
          "polar": {
           "angularaxis": {
            "gridcolor": "white",
            "linecolor": "white",
            "ticks": ""
           },
           "bgcolor": "#E5ECF6",
           "radialaxis": {
            "gridcolor": "white",
            "linecolor": "white",
            "ticks": ""
           }
          },
          "scene": {
           "xaxis": {
            "backgroundcolor": "#E5ECF6",
            "gridcolor": "white",
            "gridwidth": 2,
            "linecolor": "white",
            "showbackground": true,
            "ticks": "",
            "zerolinecolor": "white"
           },
           "yaxis": {
            "backgroundcolor": "#E5ECF6",
            "gridcolor": "white",
            "gridwidth": 2,
            "linecolor": "white",
            "showbackground": true,
            "ticks": "",
            "zerolinecolor": "white"
           },
           "zaxis": {
            "backgroundcolor": "#E5ECF6",
            "gridcolor": "white",
            "gridwidth": 2,
            "linecolor": "white",
            "showbackground": true,
            "ticks": "",
            "zerolinecolor": "white"
           }
          },
          "shapedefaults": {
           "line": {
            "color": "#2a3f5f"
           }
          },
          "ternary": {
           "aaxis": {
            "gridcolor": "white",
            "linecolor": "white",
            "ticks": ""
           },
           "baxis": {
            "gridcolor": "white",
            "linecolor": "white",
            "ticks": ""
           },
           "bgcolor": "#E5ECF6",
           "caxis": {
            "gridcolor": "white",
            "linecolor": "white",
            "ticks": ""
           }
          },
          "title": {
           "x": 0.05
          },
          "xaxis": {
           "automargin": true,
           "gridcolor": "white",
           "linecolor": "white",
           "ticks": "",
           "title": {
            "standoff": 15
           },
           "zerolinecolor": "white",
           "zerolinewidth": 2
          },
          "yaxis": {
           "automargin": true,
           "gridcolor": "white",
           "linecolor": "white",
           "ticks": "",
           "title": {
            "standoff": 15
           },
           "zerolinecolor": "white",
           "zerolinewidth": 2
          }
         }
        },
        "title": {
         "text": "Single Score vs Combination Score"
        },
        "xaxis": {
         "title": {
          "text": "Goals"
         }
        },
        "yaxis": {
         "title": {
          "text": "Values"
         }
        }
       }
      },
      "text/html": [
       "<div>                            <div id=\"b875a13d-9c11-4049-b1da-a8cf38130f3f\" class=\"plotly-graph-div\" style=\"height:525px; width:100%;\"></div>            <script type=\"text/javascript\">                require([\"plotly\"], function(Plotly) {                    window.PLOTLYENV=window.PLOTLYENV || {};                                    if (document.getElementById(\"b875a13d-9c11-4049-b1da-a8cf38130f3f\")) {                    Plotly.newPlot(                        \"b875a13d-9c11-4049-b1da-a8cf38130f3f\",                        [{\"line\":{\"color\":\"blue\"},\"marker\":{\"size\":10,\"symbol\":\"circle\"},\"mode\":\"lines+markers\",\"x\":[\"prev_maint\",\"prev_maint + money + comf_conv\"],\"y\":[4.799,10.356],\"type\":\"scatter\"}],                        {\"template\":{\"data\":{\"histogram2dcontour\":[{\"type\":\"histogram2dcontour\",\"colorbar\":{\"outlinewidth\":0,\"ticks\":\"\"},\"colorscale\":[[0.0,\"#0d0887\"],[0.1111111111111111,\"#46039f\"],[0.2222222222222222,\"#7201a8\"],[0.3333333333333333,\"#9c179e\"],[0.4444444444444444,\"#bd3786\"],[0.5555555555555556,\"#d8576b\"],[0.6666666666666666,\"#ed7953\"],[0.7777777777777778,\"#fb9f3a\"],[0.8888888888888888,\"#fdca26\"],[1.0,\"#f0f921\"]]}],\"choropleth\":[{\"type\":\"choropleth\",\"colorbar\":{\"outlinewidth\":0,\"ticks\":\"\"}}],\"histogram2d\":[{\"type\":\"histogram2d\",\"colorbar\":{\"outlinewidth\":0,\"ticks\":\"\"},\"colorscale\":[[0.0,\"#0d0887\"],[0.1111111111111111,\"#46039f\"],[0.2222222222222222,\"#7201a8\"],[0.3333333333333333,\"#9c179e\"],[0.4444444444444444,\"#bd3786\"],[0.5555555555555556,\"#d8576b\"],[0.6666666666666666,\"#ed7953\"],[0.7777777777777778,\"#fb9f3a\"],[0.8888888888888888,\"#fdca26\"],[1.0,\"#f0f921\"]]}],\"heatmap\":[{\"type\":\"heatmap\",\"colorbar\":{\"outlinewidth\":0,\"ticks\":\"\"},\"colorscale\":[[0.0,\"#0d0887\"],[0.1111111111111111,\"#46039f\"],[0.2222222222222222,\"#7201a8\"],[0.3333333333333333,\"#9c179e\"],[0.4444444444444444,\"#bd3786\"],[0.5555555555555556,\"#d8576b\"],[0.6666666666666666,\"#ed7953\"],[0.7777777777777778,\"#fb9f3a\"],[0.8888888888888888,\"#fdca26\"],[1.0,\"#f0f921\"]]}],\"heatmapgl\":[{\"type\":\"heatmapgl\",\"colorbar\":{\"outlinewidth\":0,\"ticks\":\"\"},\"colorscale\":[[0.0,\"#0d0887\"],[0.1111111111111111,\"#46039f\"],[0.2222222222222222,\"#7201a8\"],[0.3333333333333333,\"#9c179e\"],[0.4444444444444444,\"#bd3786\"],[0.5555555555555556,\"#d8576b\"],[0.6666666666666666,\"#ed7953\"],[0.7777777777777778,\"#fb9f3a\"],[0.8888888888888888,\"#fdca26\"],[1.0,\"#f0f921\"]]}],\"contourcarpet\":[{\"type\":\"contourcarpet\",\"colorbar\":{\"outlinewidth\":0,\"ticks\":\"\"}}],\"contour\":[{\"type\":\"contour\",\"colorbar\":{\"outlinewidth\":0,\"ticks\":\"\"},\"colorscale\":[[0.0,\"#0d0887\"],[0.1111111111111111,\"#46039f\"],[0.2222222222222222,\"#7201a8\"],[0.3333333333333333,\"#9c179e\"],[0.4444444444444444,\"#bd3786\"],[0.5555555555555556,\"#d8576b\"],[0.6666666666666666,\"#ed7953\"],[0.7777777777777778,\"#fb9f3a\"],[0.8888888888888888,\"#fdca26\"],[1.0,\"#f0f921\"]]}],\"surface\":[{\"type\":\"surface\",\"colorbar\":{\"outlinewidth\":0,\"ticks\":\"\"},\"colorscale\":[[0.0,\"#0d0887\"],[0.1111111111111111,\"#46039f\"],[0.2222222222222222,\"#7201a8\"],[0.3333333333333333,\"#9c179e\"],[0.4444444444444444,\"#bd3786\"],[0.5555555555555556,\"#d8576b\"],[0.6666666666666666,\"#ed7953\"],[0.7777777777777778,\"#fb9f3a\"],[0.8888888888888888,\"#fdca26\"],[1.0,\"#f0f921\"]]}],\"mesh3d\":[{\"type\":\"mesh3d\",\"colorbar\":{\"outlinewidth\":0,\"ticks\":\"\"}}],\"scatter\":[{\"fillpattern\":{\"fillmode\":\"overlay\",\"size\":10,\"solidity\":0.2},\"type\":\"scatter\"}],\"parcoords\":[{\"type\":\"parcoords\",\"line\":{\"colorbar\":{\"outlinewidth\":0,\"ticks\":\"\"}}}],\"scatterpolargl\":[{\"type\":\"scatterpolargl\",\"marker\":{\"colorbar\":{\"outlinewidth\":0,\"ticks\":\"\"}}}],\"bar\":[{\"error_x\":{\"color\":\"#2a3f5f\"},\"error_y\":{\"color\":\"#2a3f5f\"},\"marker\":{\"line\":{\"color\":\"#E5ECF6\",\"width\":0.5},\"pattern\":{\"fillmode\":\"overlay\",\"size\":10,\"solidity\":0.2}},\"type\":\"bar\"}],\"scattergeo\":[{\"type\":\"scattergeo\",\"marker\":{\"colorbar\":{\"outlinewidth\":0,\"ticks\":\"\"}}}],\"scatterpolar\":[{\"type\":\"scatterpolar\",\"marker\":{\"colorbar\":{\"outlinewidth\":0,\"ticks\":\"\"}}}],\"histogram\":[{\"marker\":{\"pattern\":{\"fillmode\":\"overlay\",\"size\":10,\"solidity\":0.2}},\"type\":\"histogram\"}],\"scattergl\":[{\"type\":\"scattergl\",\"marker\":{\"colorbar\":{\"outlinewidth\":0,\"ticks\":\"\"}}}],\"scatter3d\":[{\"type\":\"scatter3d\",\"line\":{\"colorbar\":{\"outlinewidth\":0,\"ticks\":\"\"}},\"marker\":{\"colorbar\":{\"outlinewidth\":0,\"ticks\":\"\"}}}],\"scattermapbox\":[{\"type\":\"scattermapbox\",\"marker\":{\"colorbar\":{\"outlinewidth\":0,\"ticks\":\"\"}}}],\"scatterternary\":[{\"type\":\"scatterternary\",\"marker\":{\"colorbar\":{\"outlinewidth\":0,\"ticks\":\"\"}}}],\"scattercarpet\":[{\"type\":\"scattercarpet\",\"marker\":{\"colorbar\":{\"outlinewidth\":0,\"ticks\":\"\"}}}],\"carpet\":[{\"aaxis\":{\"endlinecolor\":\"#2a3f5f\",\"gridcolor\":\"white\",\"linecolor\":\"white\",\"minorgridcolor\":\"white\",\"startlinecolor\":\"#2a3f5f\"},\"baxis\":{\"endlinecolor\":\"#2a3f5f\",\"gridcolor\":\"white\",\"linecolor\":\"white\",\"minorgridcolor\":\"white\",\"startlinecolor\":\"#2a3f5f\"},\"type\":\"carpet\"}],\"table\":[{\"cells\":{\"fill\":{\"color\":\"#EBF0F8\"},\"line\":{\"color\":\"white\"}},\"header\":{\"fill\":{\"color\":\"#C8D4E3\"},\"line\":{\"color\":\"white\"}},\"type\":\"table\"}],\"barpolar\":[{\"marker\":{\"line\":{\"color\":\"#E5ECF6\",\"width\":0.5},\"pattern\":{\"fillmode\":\"overlay\",\"size\":10,\"solidity\":0.2}},\"type\":\"barpolar\"}],\"pie\":[{\"automargin\":true,\"type\":\"pie\"}]},\"layout\":{\"autotypenumbers\":\"strict\",\"colorway\":[\"#636efa\",\"#EF553B\",\"#00cc96\",\"#ab63fa\",\"#FFA15A\",\"#19d3f3\",\"#FF6692\",\"#B6E880\",\"#FF97FF\",\"#FECB52\"],\"font\":{\"color\":\"#2a3f5f\"},\"hovermode\":\"closest\",\"hoverlabel\":{\"align\":\"left\"},\"paper_bgcolor\":\"white\",\"plot_bgcolor\":\"#E5ECF6\",\"polar\":{\"bgcolor\":\"#E5ECF6\",\"angularaxis\":{\"gridcolor\":\"white\",\"linecolor\":\"white\",\"ticks\":\"\"},\"radialaxis\":{\"gridcolor\":\"white\",\"linecolor\":\"white\",\"ticks\":\"\"}},\"ternary\":{\"bgcolor\":\"#E5ECF6\",\"aaxis\":{\"gridcolor\":\"white\",\"linecolor\":\"white\",\"ticks\":\"\"},\"baxis\":{\"gridcolor\":\"white\",\"linecolor\":\"white\",\"ticks\":\"\"},\"caxis\":{\"gridcolor\":\"white\",\"linecolor\":\"white\",\"ticks\":\"\"}},\"coloraxis\":{\"colorbar\":{\"outlinewidth\":0,\"ticks\":\"\"}},\"colorscale\":{\"sequential\":[[0.0,\"#0d0887\"],[0.1111111111111111,\"#46039f\"],[0.2222222222222222,\"#7201a8\"],[0.3333333333333333,\"#9c179e\"],[0.4444444444444444,\"#bd3786\"],[0.5555555555555556,\"#d8576b\"],[0.6666666666666666,\"#ed7953\"],[0.7777777777777778,\"#fb9f3a\"],[0.8888888888888888,\"#fdca26\"],[1.0,\"#f0f921\"]],\"sequentialminus\":[[0.0,\"#0d0887\"],[0.1111111111111111,\"#46039f\"],[0.2222222222222222,\"#7201a8\"],[0.3333333333333333,\"#9c179e\"],[0.4444444444444444,\"#bd3786\"],[0.5555555555555556,\"#d8576b\"],[0.6666666666666666,\"#ed7953\"],[0.7777777777777778,\"#fb9f3a\"],[0.8888888888888888,\"#fdca26\"],[1.0,\"#f0f921\"]],\"diverging\":[[0,\"#8e0152\"],[0.1,\"#c51b7d\"],[0.2,\"#de77ae\"],[0.3,\"#f1b6da\"],[0.4,\"#fde0ef\"],[0.5,\"#f7f7f7\"],[0.6,\"#e6f5d0\"],[0.7,\"#b8e186\"],[0.8,\"#7fbc41\"],[0.9,\"#4d9221\"],[1,\"#276419\"]]},\"xaxis\":{\"gridcolor\":\"white\",\"linecolor\":\"white\",\"ticks\":\"\",\"title\":{\"standoff\":15},\"zerolinecolor\":\"white\",\"automargin\":true,\"zerolinewidth\":2},\"yaxis\":{\"gridcolor\":\"white\",\"linecolor\":\"white\",\"ticks\":\"\",\"title\":{\"standoff\":15},\"zerolinecolor\":\"white\",\"automargin\":true,\"zerolinewidth\":2},\"scene\":{\"xaxis\":{\"backgroundcolor\":\"#E5ECF6\",\"gridcolor\":\"white\",\"linecolor\":\"white\",\"showbackground\":true,\"ticks\":\"\",\"zerolinecolor\":\"white\",\"gridwidth\":2},\"yaxis\":{\"backgroundcolor\":\"#E5ECF6\",\"gridcolor\":\"white\",\"linecolor\":\"white\",\"showbackground\":true,\"ticks\":\"\",\"zerolinecolor\":\"white\",\"gridwidth\":2},\"zaxis\":{\"backgroundcolor\":\"#E5ECF6\",\"gridcolor\":\"white\",\"linecolor\":\"white\",\"showbackground\":true,\"ticks\":\"\",\"zerolinecolor\":\"white\",\"gridwidth\":2}},\"shapedefaults\":{\"line\":{\"color\":\"#2a3f5f\"}},\"annotationdefaults\":{\"arrowcolor\":\"#2a3f5f\",\"arrowhead\":0,\"arrowwidth\":1},\"geo\":{\"bgcolor\":\"white\",\"landcolor\":\"#E5ECF6\",\"subunitcolor\":\"white\",\"showland\":true,\"showlakes\":true,\"lakecolor\":\"white\"},\"title\":{\"x\":0.05},\"mapbox\":{\"style\":\"light\"}}},\"title\":{\"text\":\"Single Score vs Combination Score\"},\"xaxis\":{\"title\":{\"text\":\"Goals\"}},\"yaxis\":{\"title\":{\"text\":\"Values\"}},\"annotations\":[{\"showarrow\":true,\"text\":\"4.799\",\"x\":\"prev_maint\",\"y\":4.799},{\"showarrow\":true,\"text\":\"10.356\",\"x\":\"prev_maint + money + comf_conv\",\"y\":10.356}]},                        {\"responsive\": true}                    ).then(function(){\n",
       "                            \n",
       "var gd = document.getElementById('b875a13d-9c11-4049-b1da-a8cf38130f3f');\n",
       "var x = new MutationObserver(function (mutations, observer) {{\n",
       "        var display = window.getComputedStyle(gd).display;\n",
       "        if (!display || display === 'none') {{\n",
       "            console.log([gd, 'removed!']);\n",
       "            Plotly.purge(gd);\n",
       "            observer.disconnect();\n",
       "        }}\n",
       "}});\n",
       "\n",
       "// Listen for the removal of the full notebook cells\n",
       "var notebookContainer = gd.closest('#notebook-container');\n",
       "if (notebookContainer) {{\n",
       "    x.observe(notebookContainer, {childList: true});\n",
       "}}\n",
       "\n",
       "// Listen for the clearing of the current output cell\n",
       "var outputEl = gd.closest('.output');\n",
       "if (outputEl) {{\n",
       "    x.observe(outputEl, {childList: true});\n",
       "}}\n",
       "\n",
       "                        })                };                });            </script>        </div>"
      ]
     },
     "metadata": {},
     "output_type": "display_data"
    }
   ],
   "source": [
    "import plotly.graph_objects as go\n",
    "\n",
    "# Define the data\n",
    "numbers = [4.799, 10.356]\n",
    "labels = ['prev_maint', 'prev_maint + money + comf_conv']\n",
    "\n",
    "# Create a line chart\n",
    "fig = go.Figure(data=go.Scatter(x=labels, y=numbers, mode='lines+markers', line=dict(color='blue'), marker=dict(symbol='circle', size=10)))\n",
    "fig.update_layout(title='Single Score vs Combination Score',\n",
    "                  xaxis_title='Goals',\n",
    "                  yaxis_title='Values')\n",
    "\n",
    "# Annotate the data points with their values\n",
    "for label, number in zip(labels, numbers):\n",
    "    fig.add_annotation(x=label, y=number, text=f'{number:.3f}', showarrow=True)\n",
    "\n",
    "# Show the plot\n",
    "fig.show()"
   ]
  },
  {
   "cell_type": "code",
   "execution_count": null,
   "id": "430baec0",
   "metadata": {},
   "outputs": [],
   "source": []
  },
  {
   "cell_type": "code",
   "execution_count": null,
   "id": "41614c81",
   "metadata": {},
   "outputs": [],
   "source": []
  }
 ],
 "metadata": {
  "kernelspec": {
   "display_name": "Python 3 (ipykernel)",
   "language": "python",
   "name": "python3"
  },
  "language_info": {
   "codemirror_mode": {
    "name": "ipython",
    "version": 3
   },
   "file_extension": ".py",
   "mimetype": "text/x-python",
   "name": "python",
   "nbconvert_exporter": "python",
   "pygments_lexer": "ipython3",
   "version": "3.10.9"
  }
 },
 "nbformat": 4,
 "nbformat_minor": 5
}
